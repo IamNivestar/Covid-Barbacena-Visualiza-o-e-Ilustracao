{
 "cells": [
  {
   "cell_type": "markdown",
   "metadata": {},
   "source": [
    "### Importando bibliotecas"
   ]
  },
  {
   "cell_type": "code",
   "execution_count": 1,
   "metadata": {
    "scrolled": false
   },
   "outputs": [],
   "source": [
    "import numpy as np\n",
    "import pandas as pd\n",
    "import matplotlib.pyplot as plt\n",
    "import seaborn as sns\n",
    "#import pandas_datareader as wb"
   ]
  },
  {
   "cell_type": "markdown",
   "metadata": {},
   "source": [
    "### Importando base de dados"
   ]
  },
  {
   "cell_type": "code",
   "execution_count": 83,
   "metadata": {
    "scrolled": true
   },
   "outputs": [
    {
     "data": {
      "text/html": [
       "<div>\n",
       "<style scoped>\n",
       "    .dataframe tbody tr th:only-of-type {\n",
       "        vertical-align: middle;\n",
       "    }\n",
       "\n",
       "    .dataframe tbody tr th {\n",
       "        vertical-align: top;\n",
       "    }\n",
       "\n",
       "    .dataframe thead th {\n",
       "        text-align: right;\n",
       "    }\n",
       "</style>\n",
       "<table border=\"1\" class=\"dataframe\">\n",
       "  <thead>\n",
       "    <tr style=\"text-align: right;\">\n",
       "      <th></th>\n",
       "      <th>MACRO</th>\n",
       "      <th>MICRO</th>\n",
       "      <th>URS</th>\n",
       "      <th>CODIGO</th>\n",
       "      <th>MUNICIPIO</th>\n",
       "      <th>MATERIAL</th>\n",
       "      <th>REQUISITANTE</th>\n",
       "      <th>NFM</th>\n",
       "      <th>FABRICANTE</th>\n",
       "      <th>VACINA</th>\n",
       "      <th>DATA</th>\n",
       "      <th>MOV</th>\n",
       "      <th>LOTE</th>\n",
       "      <th>VALIDADE</th>\n",
       "      <th>QUANTIDADE</th>\n",
       "      <th>VALOR</th>\n",
       "    </tr>\n",
       "  </thead>\n",
       "  <tbody>\n",
       "    <tr>\n",
       "      <th>0</th>\n",
       "      <td>TRIANGULO DO NORTE</td>\n",
       "      <td>PATROCINIO/MONTE CARMELO</td>\n",
       "      <td>UBERLANDIA</td>\n",
       "      <td>310010</td>\n",
       "      <td>ABADIA DOS DOURADOS</td>\n",
       "      <td>VACINA CONTRA SARS-COV2 1 DOSE - FRASCO</td>\n",
       "      <td>Requisitante: SECRETARIA MUNICIPAL DE SAUDE DE...</td>\n",
       "      <td>9043708</td>\n",
       "      <td>FUNDACAO BUTANTAN</td>\n",
       "      <td>CORONAVAC</td>\n",
       "      <td>2021-01-21</td>\n",
       "      <td>14</td>\n",
       "      <td>202010031</td>\n",
       "      <td>22/10/2023</td>\n",
       "      <td>63</td>\n",
       "      <td>3666.6</td>\n",
       "    </tr>\n",
       "    <tr>\n",
       "      <th>1</th>\n",
       "      <td>CENTRO</td>\n",
       "      <td>SETE LAGOAS</td>\n",
       "      <td>SETE LAGOAS</td>\n",
       "      <td>310020</td>\n",
       "      <td>ABAETE</td>\n",
       "      <td>VACINA CONTRA SARS-COV2 1 DOSE - FRASCO</td>\n",
       "      <td>Requisitante: SECRETARIA MUNICIPAL DE SAUDE DE...</td>\n",
       "      <td>9042541</td>\n",
       "      <td>FUNDACAO BUTANTAN</td>\n",
       "      <td>CORONAVAC</td>\n",
       "      <td>2021-01-21</td>\n",
       "      <td>14</td>\n",
       "      <td>202010038</td>\n",
       "      <td>28/10/2023</td>\n",
       "      <td>73</td>\n",
       "      <td>4248.6</td>\n",
       "    </tr>\n",
       "    <tr>\n",
       "      <th>2</th>\n",
       "      <td>LESTE DO SUL</td>\n",
       "      <td>MANHUACU</td>\n",
       "      <td>MANHUACU</td>\n",
       "      <td>310030</td>\n",
       "      <td>ABRE CAMPO</td>\n",
       "      <td>VACINA CONTRA SARS-COV2 1 DOSE - FRASCO</td>\n",
       "      <td>Requisitante: SECRETARIA MUNICIPAL DE SAUDE DE...</td>\n",
       "      <td>9043204</td>\n",
       "      <td>FUNDACAO BUTANTAN</td>\n",
       "      <td>CORONAVAC</td>\n",
       "      <td>2021-01-21</td>\n",
       "      <td>14</td>\n",
       "      <td>202010038</td>\n",
       "      <td>28/10/2023</td>\n",
       "      <td>75</td>\n",
       "      <td>4365.0</td>\n",
       "    </tr>\n",
       "    <tr>\n",
       "      <th>3</th>\n",
       "      <td>LESTE DO SUL</td>\n",
       "      <td>PONTE NOVA</td>\n",
       "      <td>PONTE NOVA</td>\n",
       "      <td>310040</td>\n",
       "      <td>ACAIACA</td>\n",
       "      <td>VACINA CONTRA SARS-COV2 1 DOSE - FRASCO</td>\n",
       "      <td>Requisitante: SECRETARIA MUNICIPAL DE SAUDE DE...</td>\n",
       "      <td>9040803</td>\n",
       "      <td>FUNDACAO BUTANTAN</td>\n",
       "      <td>CORONAVAC</td>\n",
       "      <td>2021-01-21</td>\n",
       "      <td>14</td>\n",
       "      <td>202010031</td>\n",
       "      <td>22/10/2023</td>\n",
       "      <td>11</td>\n",
       "      <td>640.2</td>\n",
       "    </tr>\n",
       "    <tr>\n",
       "      <th>4</th>\n",
       "      <td>VALE DO ACO</td>\n",
       "      <td>IPATINGA</td>\n",
       "      <td>CORONEL FABRICIANO</td>\n",
       "      <td>310050</td>\n",
       "      <td>ACUCENA</td>\n",
       "      <td>VACINA CONTRA SARS-COV2 1 DOSE - FRASCO</td>\n",
       "      <td>Requisitante: SECRETARIA MUNICIPAL DE SAUDE DE...</td>\n",
       "      <td>9043400</td>\n",
       "      <td>FUNDACAO BUTANTAN</td>\n",
       "      <td>CORONAVAC</td>\n",
       "      <td>2021-01-21</td>\n",
       "      <td>14</td>\n",
       "      <td>202010038</td>\n",
       "      <td>28/10/2023</td>\n",
       "      <td>51</td>\n",
       "      <td>2968.2</td>\n",
       "    </tr>\n",
       "    <tr>\n",
       "      <th>...</th>\n",
       "      <td>...</td>\n",
       "      <td>...</td>\n",
       "      <td>...</td>\n",
       "      <td>...</td>\n",
       "      <td>...</td>\n",
       "      <td>...</td>\n",
       "      <td>...</td>\n",
       "      <td>...</td>\n",
       "      <td>...</td>\n",
       "      <td>...</td>\n",
       "      <td>...</td>\n",
       "      <td>...</td>\n",
       "      <td>...</td>\n",
       "      <td>...</td>\n",
       "      <td>...</td>\n",
       "      <td>...</td>\n",
       "    </tr>\n",
       "    <tr>\n",
       "      <th>41902</th>\n",
       "      <td>CENTRO</td>\n",
       "      <td>BELO HORIZONTE/NOVA LIMA/CAETE</td>\n",
       "      <td>BELO HORIZONTE</td>\n",
       "      <td>310620</td>\n",
       "      <td>BELO HORIZONTE</td>\n",
       "      <td>VACINA CONTRA SARS-COV2 10 DOSES - FRASCO</td>\n",
       "      <td>Requisitante: SECRETARIA MUNICIPAL DE SAUDE DE...</td>\n",
       "      <td>9919925</td>\n",
       "      <td>FUNDACAO BUTANTAN</td>\n",
       "      <td>CORONAVAC</td>\n",
       "      <td>2021-05-14</td>\n",
       "      <td>14</td>\n",
       "      <td>210217</td>\n",
       "      <td>2022-04-30 00:00:00</td>\n",
       "      <td>65200</td>\n",
       "      <td>3794640.0</td>\n",
       "    </tr>\n",
       "    <tr>\n",
       "      <th>41903</th>\n",
       "      <td>CENTRO</td>\n",
       "      <td>BELO HORIZONTE/NOVA LIMA/CAETE</td>\n",
       "      <td>BELO HORIZONTE</td>\n",
       "      <td>310620</td>\n",
       "      <td>BELO HORIZONTE</td>\n",
       "      <td>VACINA CONTRA SARS-COV2 10 DOSES - FRASCO</td>\n",
       "      <td>Requisitante: SECRETARIA MUNICIPAL DE SAUDE DE...</td>\n",
       "      <td>9945923</td>\n",
       "      <td>FUNDACAO BUTANTAN</td>\n",
       "      <td>CORONAVAC</td>\n",
       "      <td>2021-05-18</td>\n",
       "      <td>14</td>\n",
       "      <td>210219</td>\n",
       "      <td>2022-04-30 00:00:00</td>\n",
       "      <td>12000</td>\n",
       "      <td>698400.0</td>\n",
       "    </tr>\n",
       "    <tr>\n",
       "      <th>41904</th>\n",
       "      <td>CENTRO</td>\n",
       "      <td>BELO HORIZONTE/NOVA LIMA/CAETE</td>\n",
       "      <td>BELO HORIZONTE</td>\n",
       "      <td>310620</td>\n",
       "      <td>BELO HORIZONTE</td>\n",
       "      <td>VACINA CONTRA SARS-COV2 10 DOSES - FRASCO</td>\n",
       "      <td>Requisitante: SECRETARIA MUNICIPAL DE SAUDE DE...</td>\n",
       "      <td>9971312</td>\n",
       "      <td>FUNDACAO BUTANTAN</td>\n",
       "      <td>CORONAVAC</td>\n",
       "      <td>2021-05-20</td>\n",
       "      <td>14</td>\n",
       "      <td>210219</td>\n",
       "      <td>2022-04-30 00:00:00</td>\n",
       "      <td>5680</td>\n",
       "      <td>330576.0</td>\n",
       "    </tr>\n",
       "    <tr>\n",
       "      <th>41905</th>\n",
       "      <td>CENTRO</td>\n",
       "      <td>BELO HORIZONTE/NOVA LIMA/CAETE</td>\n",
       "      <td>BELO HORIZONTE</td>\n",
       "      <td>310620</td>\n",
       "      <td>BELO HORIZONTE</td>\n",
       "      <td>VACINA CONTRA SARS-COV2 10 DOSES - FRASCO</td>\n",
       "      <td>Requisitante: SECRETARIA MUNICIPAL DE SAUDE DE...</td>\n",
       "      <td>10240481</td>\n",
       "      <td>FUNDACAO BUTANTAN</td>\n",
       "      <td>CORONAVAC</td>\n",
       "      <td>2021-06-18</td>\n",
       "      <td>14</td>\n",
       "      <td>210271</td>\n",
       "      <td>2022-05-31 00:00:00</td>\n",
       "      <td>40600</td>\n",
       "      <td>2362920.0</td>\n",
       "    </tr>\n",
       "    <tr>\n",
       "      <th>41906</th>\n",
       "      <td>CENTRO</td>\n",
       "      <td>BELO HORIZONTE/NOVA LIMA/CAETE</td>\n",
       "      <td>BELO HORIZONTE</td>\n",
       "      <td>310620</td>\n",
       "      <td>BELO HORIZONTE</td>\n",
       "      <td>VACINA CONTRA SARS-COV2 10 DOSES - FRASCO</td>\n",
       "      <td>Requisitante: SECRETARIA MUNICIPAL DE SAUDE DE...</td>\n",
       "      <td>10240481</td>\n",
       "      <td>ASTRAZENECA AB</td>\n",
       "      <td>ASTRAZENECA</td>\n",
       "      <td>2021-06-18</td>\n",
       "      <td>14</td>\n",
       "      <td>ABX3118</td>\n",
       "      <td>2021-08-31 00:00:00</td>\n",
       "      <td>850</td>\n",
       "      <td>18428.0</td>\n",
       "    </tr>\n",
       "  </tbody>\n",
       "</table>\n",
       "<p>41907 rows × 16 columns</p>\n",
       "</div>"
      ],
      "text/plain": [
       "                    MACRO                           MICRO                 URS  \\\n",
       "0      TRIANGULO DO NORTE        PATROCINIO/MONTE CARMELO          UBERLANDIA   \n",
       "1                  CENTRO                     SETE LAGOAS         SETE LAGOAS   \n",
       "2            LESTE DO SUL                        MANHUACU            MANHUACU   \n",
       "3            LESTE DO SUL                      PONTE NOVA          PONTE NOVA   \n",
       "4             VALE DO ACO                        IPATINGA  CORONEL FABRICIANO   \n",
       "...                   ...                             ...                 ...   \n",
       "41902              CENTRO  BELO HORIZONTE/NOVA LIMA/CAETE      BELO HORIZONTE   \n",
       "41903              CENTRO  BELO HORIZONTE/NOVA LIMA/CAETE      BELO HORIZONTE   \n",
       "41904              CENTRO  BELO HORIZONTE/NOVA LIMA/CAETE      BELO HORIZONTE   \n",
       "41905              CENTRO  BELO HORIZONTE/NOVA LIMA/CAETE      BELO HORIZONTE   \n",
       "41906              CENTRO  BELO HORIZONTE/NOVA LIMA/CAETE      BELO HORIZONTE   \n",
       "\n",
       "       CODIGO            MUNICIPIO                                   MATERIAL  \\\n",
       "0      310010  ABADIA DOS DOURADOS    VACINA CONTRA SARS-COV2 1 DOSE - FRASCO   \n",
       "1      310020               ABAETE    VACINA CONTRA SARS-COV2 1 DOSE - FRASCO   \n",
       "2      310030           ABRE CAMPO    VACINA CONTRA SARS-COV2 1 DOSE - FRASCO   \n",
       "3      310040              ACAIACA    VACINA CONTRA SARS-COV2 1 DOSE - FRASCO   \n",
       "4      310050              ACUCENA    VACINA CONTRA SARS-COV2 1 DOSE - FRASCO   \n",
       "...       ...                  ...                                        ...   \n",
       "41902  310620       BELO HORIZONTE  VACINA CONTRA SARS-COV2 10 DOSES - FRASCO   \n",
       "41903  310620       BELO HORIZONTE  VACINA CONTRA SARS-COV2 10 DOSES - FRASCO   \n",
       "41904  310620       BELO HORIZONTE  VACINA CONTRA SARS-COV2 10 DOSES - FRASCO   \n",
       "41905  310620       BELO HORIZONTE  VACINA CONTRA SARS-COV2 10 DOSES - FRASCO   \n",
       "41906  310620       BELO HORIZONTE  VACINA CONTRA SARS-COV2 10 DOSES - FRASCO   \n",
       "\n",
       "                                            REQUISITANTE       NFM  \\\n",
       "0      Requisitante: SECRETARIA MUNICIPAL DE SAUDE DE...   9043708   \n",
       "1      Requisitante: SECRETARIA MUNICIPAL DE SAUDE DE...   9042541   \n",
       "2      Requisitante: SECRETARIA MUNICIPAL DE SAUDE DE...   9043204   \n",
       "3      Requisitante: SECRETARIA MUNICIPAL DE SAUDE DE...   9040803   \n",
       "4      Requisitante: SECRETARIA MUNICIPAL DE SAUDE DE...   9043400   \n",
       "...                                                  ...       ...   \n",
       "41902  Requisitante: SECRETARIA MUNICIPAL DE SAUDE DE...   9919925   \n",
       "41903  Requisitante: SECRETARIA MUNICIPAL DE SAUDE DE...   9945923   \n",
       "41904  Requisitante: SECRETARIA MUNICIPAL DE SAUDE DE...   9971312   \n",
       "41905  Requisitante: SECRETARIA MUNICIPAL DE SAUDE DE...  10240481   \n",
       "41906  Requisitante: SECRETARIA MUNICIPAL DE SAUDE DE...  10240481   \n",
       "\n",
       "              FABRICANTE       VACINA       DATA  MOV       LOTE  \\\n",
       "0      FUNDACAO BUTANTAN    CORONAVAC 2021-01-21   14  202010031   \n",
       "1      FUNDACAO BUTANTAN    CORONAVAC 2021-01-21   14  202010038   \n",
       "2      FUNDACAO BUTANTAN    CORONAVAC 2021-01-21   14  202010038   \n",
       "3      FUNDACAO BUTANTAN    CORONAVAC 2021-01-21   14  202010031   \n",
       "4      FUNDACAO BUTANTAN    CORONAVAC 2021-01-21   14  202010038   \n",
       "...                  ...          ...        ...  ...        ...   \n",
       "41902  FUNDACAO BUTANTAN    CORONAVAC 2021-05-14   14     210217   \n",
       "41903  FUNDACAO BUTANTAN    CORONAVAC 2021-05-18   14     210219   \n",
       "41904  FUNDACAO BUTANTAN    CORONAVAC 2021-05-20   14     210219   \n",
       "41905  FUNDACAO BUTANTAN    CORONAVAC 2021-06-18   14     210271   \n",
       "41906     ASTRAZENECA AB  ASTRAZENECA 2021-06-18   14    ABX3118   \n",
       "\n",
       "                  VALIDADE  QUANTIDADE      VALOR  \n",
       "0               22/10/2023          63     3666.6  \n",
       "1               28/10/2023          73     4248.6  \n",
       "2               28/10/2023          75     4365.0  \n",
       "3               22/10/2023          11      640.2  \n",
       "4               28/10/2023          51     2968.2  \n",
       "...                    ...         ...        ...  \n",
       "41902  2022-04-30 00:00:00       65200  3794640.0  \n",
       "41903  2022-04-30 00:00:00       12000   698400.0  \n",
       "41904  2022-04-30 00:00:00        5680   330576.0  \n",
       "41905  2022-05-31 00:00:00       40600  2362920.0  \n",
       "41906  2021-08-31 00:00:00         850    18428.0  \n",
       "\n",
       "[41907 rows x 16 columns]"
      ]
     },
     "execution_count": 83,
     "metadata": {},
     "output_type": "execute_result"
    }
   ],
   "source": [
    "df = pd.read_excel(\"BASE_SIES_MG.xlsx\", encoding='utf8', sheet_name = 'SIES_MUN')\n",
    "df"
   ]
  },
  {
   "cell_type": "markdown",
   "metadata": {},
   "source": [
    "### Nulos"
   ]
  },
  {
   "cell_type": "code",
   "execution_count": 3,
   "metadata": {
    "scrolled": true
   },
   "outputs": [
    {
     "data": {
      "text/plain": [
       "MACRO           0\n",
       "MICRO           0\n",
       "URS             0\n",
       "CODIGO          0\n",
       "MUNICIPIO       0\n",
       "MATERIAL        0\n",
       "REQUISITANTE    0\n",
       "NFM             0\n",
       "FABRICANTE      0\n",
       "VACINA          0\n",
       "DATA            0\n",
       "MOV             0\n",
       "LOTE            0\n",
       "VALIDADE        0\n",
       "QUANTIDADE      0\n",
       "VALOR           0\n",
       "dtype: int64"
      ]
     },
     "execution_count": 3,
     "metadata": {},
     "output_type": "execute_result"
    }
   ],
   "source": [
    "df.isnull().sum()"
   ]
  },
  {
   "cell_type": "code",
   "execution_count": 4,
   "metadata": {
    "scrolled": true
   },
   "outputs": [
    {
     "data": {
      "text/plain": [
       "Index(['MACRO', 'MICRO', 'URS', 'CODIGO', 'MUNICIPIO', 'MATERIAL',\n",
       "       'REQUISITANTE', 'NFM', 'FABRICANTE', 'VACINA', 'DATA', 'MOV', 'LOTE',\n",
       "       'VALIDADE', 'QUANTIDADE', 'VALOR'],\n",
       "      dtype='object')"
      ]
     },
     "execution_count": 4,
     "metadata": {},
     "output_type": "execute_result"
    }
   ],
   "source": [
    "df.columns"
   ]
  },
  {
   "cell_type": "markdown",
   "metadata": {},
   "source": [
    "### Selecionando Base de dados acerca da minha cidade"
   ]
  },
  {
   "cell_type": "code",
   "execution_count": 5,
   "metadata": {
    "scrolled": true
   },
   "outputs": [
    {
     "data": {
      "text/html": [
       "<div>\n",
       "<style scoped>\n",
       "    .dataframe tbody tr th:only-of-type {\n",
       "        vertical-align: middle;\n",
       "    }\n",
       "\n",
       "    .dataframe tbody tr th {\n",
       "        vertical-align: top;\n",
       "    }\n",
       "\n",
       "    .dataframe thead th {\n",
       "        text-align: right;\n",
       "    }\n",
       "</style>\n",
       "<table border=\"1\" class=\"dataframe\">\n",
       "  <thead>\n",
       "    <tr style=\"text-align: right;\">\n",
       "      <th></th>\n",
       "      <th>MACRO</th>\n",
       "      <th>MICRO</th>\n",
       "      <th>URS</th>\n",
       "      <th>CODIGO</th>\n",
       "      <th>MUNICIPIO</th>\n",
       "      <th>MATERIAL</th>\n",
       "      <th>REQUISITANTE</th>\n",
       "      <th>NFM</th>\n",
       "      <th>FABRICANTE</th>\n",
       "      <th>VACINA</th>\n",
       "      <th>DATA</th>\n",
       "      <th>MOV</th>\n",
       "      <th>LOTE</th>\n",
       "      <th>VALIDADE</th>\n",
       "      <th>QUANTIDADE</th>\n",
       "      <th>VALOR</th>\n",
       "    </tr>\n",
       "  </thead>\n",
       "  <tbody>\n",
       "    <tr>\n",
       "      <th>28167</th>\n",
       "      <td>CENTRO SUL</td>\n",
       "      <td>BARBACENA</td>\n",
       "      <td>BARBACENA</td>\n",
       "      <td>310560</td>\n",
       "      <td>BARBACENA</td>\n",
       "      <td>VACINA CONTRA SARS-COV2 10 DOSES - FRASCO</td>\n",
       "      <td>Requisitante: SECRETARIA MUNICIPAL DE SAUDE DE...</td>\n",
       "      <td>9443743</td>\n",
       "      <td>FUNDACAO BUTANTAN</td>\n",
       "      <td>CORONAVAC</td>\n",
       "      <td>2021-03-27</td>\n",
       "      <td>14</td>\n",
       "      <td>210088</td>\n",
       "      <td>02/04/2022</td>\n",
       "      <td>3080</td>\n",
       "      <td>179256.00</td>\n",
       "    </tr>\n",
       "    <tr>\n",
       "      <th>34656</th>\n",
       "      <td>CENTRO SUL</td>\n",
       "      <td>BARBACENA</td>\n",
       "      <td>BARBACENA</td>\n",
       "      <td>310560</td>\n",
       "      <td>BARBACENA</td>\n",
       "      <td>VACINA CONTRA SARS-COV2 10 DOSES - FRASCO</td>\n",
       "      <td>Requisitante: SECRETARIA MUNICIPAL DE SAUDE DE...</td>\n",
       "      <td>9653563</td>\n",
       "      <td>FUNDACAO BUTANTAN</td>\n",
       "      <td>CORONAVAC</td>\n",
       "      <td>2021-04-21</td>\n",
       "      <td>14</td>\n",
       "      <td>210143</td>\n",
       "      <td>02/04/2022</td>\n",
       "      <td>1810</td>\n",
       "      <td>105342.00</td>\n",
       "    </tr>\n",
       "    <tr>\n",
       "      <th>7585</th>\n",
       "      <td>CENTRO SUL</td>\n",
       "      <td>BARBACENA</td>\n",
       "      <td>BARBACENA</td>\n",
       "      <td>310560</td>\n",
       "      <td>BARBACENA</td>\n",
       "      <td>VACINA CONTRA SARS-COV2 5 DOSES - FRASCO</td>\n",
       "      <td>Requisitante: SECRETARIA MUNICIPAL DE SAUDE DE...</td>\n",
       "      <td>9788403</td>\n",
       "      <td>FUNDACAO OSWALDO CRUZ</td>\n",
       "      <td>ASTRAZENECA</td>\n",
       "      <td>2021-05-05</td>\n",
       "      <td>14</td>\n",
       "      <td>213VCD036Z</td>\n",
       "      <td>26/09/2021</td>\n",
       "      <td>3945</td>\n",
       "      <td>78387.15</td>\n",
       "    </tr>\n",
       "    <tr>\n",
       "      <th>24304</th>\n",
       "      <td>CENTRO SUL</td>\n",
       "      <td>BARBACENA</td>\n",
       "      <td>BARBACENA</td>\n",
       "      <td>310560</td>\n",
       "      <td>BARBACENA</td>\n",
       "      <td>VACINA CONTRA SARS-COV2 10 DOSES - FRASCO</td>\n",
       "      <td>Requisitante: SECRETARIA MUNICIPAL DE SAUDE DE...</td>\n",
       "      <td>9341512</td>\n",
       "      <td>FUNDACAO BUTANTAN</td>\n",
       "      <td>CORONAVAC</td>\n",
       "      <td>2021-03-13</td>\n",
       "      <td>14</td>\n",
       "      <td>210039</td>\n",
       "      <td>02/03/2022</td>\n",
       "      <td>430</td>\n",
       "      <td>25026.00</td>\n",
       "    </tr>\n",
       "    <tr>\n",
       "      <th>25744</th>\n",
       "      <td>CENTRO SUL</td>\n",
       "      <td>BARBACENA</td>\n",
       "      <td>BARBACENA</td>\n",
       "      <td>310560</td>\n",
       "      <td>BARBACENA</td>\n",
       "      <td>VACINA CONTRA SARS-COV2 10 DOSES - FRASCO</td>\n",
       "      <td>Requisitante: SECRETARIA MUNICIPAL DE SAUDE DE...</td>\n",
       "      <td>9375092</td>\n",
       "      <td>FUNDACAO BUTANTAN</td>\n",
       "      <td>CORONAVAC</td>\n",
       "      <td>2021-03-18</td>\n",
       "      <td>14</td>\n",
       "      <td>210047</td>\n",
       "      <td>02/03/2022</td>\n",
       "      <td>820</td>\n",
       "      <td>47724.00</td>\n",
       "    </tr>\n",
       "    <tr>\n",
       "      <th>18083</th>\n",
       "      <td>CENTRO SUL</td>\n",
       "      <td>BARBACENA</td>\n",
       "      <td>BARBACENA</td>\n",
       "      <td>310560</td>\n",
       "      <td>BARBACENA</td>\n",
       "      <td>VACINA CONTRA SARS-COV2 10 DOSES - FRASCO</td>\n",
       "      <td>Requisitante: SECRETARIA MUNICIPAL DE SAUDE DE...</td>\n",
       "      <td>9105286</td>\n",
       "      <td>FUNDACAO OSWALDO CRUZ</td>\n",
       "      <td>ASTRAZENECA</td>\n",
       "      <td>2021-02-02</td>\n",
       "      <td>14</td>\n",
       "      <td>4120Z005</td>\n",
       "      <td>16/04/2021</td>\n",
       "      <td>1410</td>\n",
       "      <td>40196.32</td>\n",
       "    </tr>\n",
       "    <tr>\n",
       "      <th>34657</th>\n",
       "      <td>CENTRO SUL</td>\n",
       "      <td>BARBACENA</td>\n",
       "      <td>BARBACENA</td>\n",
       "      <td>310560</td>\n",
       "      <td>BARBACENA</td>\n",
       "      <td>VACINA CONTRA SARS-COV2 10 DOSES - FRASCO</td>\n",
       "      <td>Requisitante: SECRETARIA MUNICIPAL DE SAUDE DE...</td>\n",
       "      <td>9654740</td>\n",
       "      <td>FUNDACAO BUTANTAN</td>\n",
       "      <td>CORONAVAC</td>\n",
       "      <td>2021-04-21</td>\n",
       "      <td>14</td>\n",
       "      <td>210143</td>\n",
       "      <td>02/04/2022</td>\n",
       "      <td>360</td>\n",
       "      <td>20952.00</td>\n",
       "    </tr>\n",
       "    <tr>\n",
       "      <th>15325</th>\n",
       "      <td>CENTRO SUL</td>\n",
       "      <td>BARBACENA</td>\n",
       "      <td>BARBACENA</td>\n",
       "      <td>310560</td>\n",
       "      <td>BARBACENA</td>\n",
       "      <td>VACINA CONTRA SARS-COV2 6 DOSES - FRASCO</td>\n",
       "      <td>Requisitante: SECRETARIA MUNICIPAL DE SAUDE DE...</td>\n",
       "      <td>10179220</td>\n",
       "      <td>PFIZER</td>\n",
       "      <td>PFIZER</td>\n",
       "      <td>2021-06-16</td>\n",
       "      <td>14</td>\n",
       "      <td>EY0574</td>\n",
       "      <td>01/11/2021</td>\n",
       "      <td>2112</td>\n",
       "      <td>110504.06</td>\n",
       "    </tr>\n",
       "    <tr>\n",
       "      <th>21127</th>\n",
       "      <td>CENTRO SUL</td>\n",
       "      <td>BARBACENA</td>\n",
       "      <td>BARBACENA</td>\n",
       "      <td>310560</td>\n",
       "      <td>BARBACENA</td>\n",
       "      <td>VACINA CONTRA SARS-COV2 10 DOSES - FRASCO</td>\n",
       "      <td>Requisitante: SECRETARIA MUNICIPAL DE SAUDE DE...</td>\n",
       "      <td>9269311</td>\n",
       "      <td>FUNDACAO OSWALDO CRUZ</td>\n",
       "      <td>ASTRAZENECA</td>\n",
       "      <td>2021-03-03</td>\n",
       "      <td>14</td>\n",
       "      <td>4120Z001</td>\n",
       "      <td>31/03/2021</td>\n",
       "      <td>1440</td>\n",
       "      <td>42768.00</td>\n",
       "    </tr>\n",
       "    <tr>\n",
       "      <th>30918</th>\n",
       "      <td>CENTRO SUL</td>\n",
       "      <td>BARBACENA</td>\n",
       "      <td>BARBACENA</td>\n",
       "      <td>310560</td>\n",
       "      <td>BARBACENA</td>\n",
       "      <td>VACINA CONTRA SARS-COV2 10 DOSES - FRASCO</td>\n",
       "      <td>Requisitante: SECRETARIA MUNICIPAL DE SAUDE DE...</td>\n",
       "      <td>9516502</td>\n",
       "      <td>FUNDACAO BUTANTAN</td>\n",
       "      <td>CORONAVAC</td>\n",
       "      <td>2021-04-07</td>\n",
       "      <td>14</td>\n",
       "      <td>210113</td>\n",
       "      <td>02/04/2022</td>\n",
       "      <td>6260</td>\n",
       "      <td>364332.00</td>\n",
       "    </tr>\n",
       "  </tbody>\n",
       "</table>\n",
       "</div>"
      ],
      "text/plain": [
       "            MACRO      MICRO        URS  CODIGO  MUNICIPIO  \\\n",
       "28167  CENTRO SUL  BARBACENA  BARBACENA  310560  BARBACENA   \n",
       "34656  CENTRO SUL  BARBACENA  BARBACENA  310560  BARBACENA   \n",
       "7585   CENTRO SUL  BARBACENA  BARBACENA  310560  BARBACENA   \n",
       "24304  CENTRO SUL  BARBACENA  BARBACENA  310560  BARBACENA   \n",
       "25744  CENTRO SUL  BARBACENA  BARBACENA  310560  BARBACENA   \n",
       "18083  CENTRO SUL  BARBACENA  BARBACENA  310560  BARBACENA   \n",
       "34657  CENTRO SUL  BARBACENA  BARBACENA  310560  BARBACENA   \n",
       "15325  CENTRO SUL  BARBACENA  BARBACENA  310560  BARBACENA   \n",
       "21127  CENTRO SUL  BARBACENA  BARBACENA  310560  BARBACENA   \n",
       "30918  CENTRO SUL  BARBACENA  BARBACENA  310560  BARBACENA   \n",
       "\n",
       "                                        MATERIAL  \\\n",
       "28167  VACINA CONTRA SARS-COV2 10 DOSES - FRASCO   \n",
       "34656  VACINA CONTRA SARS-COV2 10 DOSES - FRASCO   \n",
       "7585    VACINA CONTRA SARS-COV2 5 DOSES - FRASCO   \n",
       "24304  VACINA CONTRA SARS-COV2 10 DOSES - FRASCO   \n",
       "25744  VACINA CONTRA SARS-COV2 10 DOSES - FRASCO   \n",
       "18083  VACINA CONTRA SARS-COV2 10 DOSES - FRASCO   \n",
       "34657  VACINA CONTRA SARS-COV2 10 DOSES - FRASCO   \n",
       "15325   VACINA CONTRA SARS-COV2 6 DOSES - FRASCO   \n",
       "21127  VACINA CONTRA SARS-COV2 10 DOSES - FRASCO   \n",
       "30918  VACINA CONTRA SARS-COV2 10 DOSES - FRASCO   \n",
       "\n",
       "                                            REQUISITANTE       NFM  \\\n",
       "28167  Requisitante: SECRETARIA MUNICIPAL DE SAUDE DE...   9443743   \n",
       "34656  Requisitante: SECRETARIA MUNICIPAL DE SAUDE DE...   9653563   \n",
       "7585   Requisitante: SECRETARIA MUNICIPAL DE SAUDE DE...   9788403   \n",
       "24304  Requisitante: SECRETARIA MUNICIPAL DE SAUDE DE...   9341512   \n",
       "25744  Requisitante: SECRETARIA MUNICIPAL DE SAUDE DE...   9375092   \n",
       "18083  Requisitante: SECRETARIA MUNICIPAL DE SAUDE DE...   9105286   \n",
       "34657  Requisitante: SECRETARIA MUNICIPAL DE SAUDE DE...   9654740   \n",
       "15325  Requisitante: SECRETARIA MUNICIPAL DE SAUDE DE...  10179220   \n",
       "21127  Requisitante: SECRETARIA MUNICIPAL DE SAUDE DE...   9269311   \n",
       "30918  Requisitante: SECRETARIA MUNICIPAL DE SAUDE DE...   9516502   \n",
       "\n",
       "                  FABRICANTE       VACINA       DATA  MOV        LOTE  \\\n",
       "28167      FUNDACAO BUTANTAN    CORONAVAC 2021-03-27   14      210088   \n",
       "34656      FUNDACAO BUTANTAN    CORONAVAC 2021-04-21   14      210143   \n",
       "7585   FUNDACAO OSWALDO CRUZ  ASTRAZENECA 2021-05-05   14  213VCD036Z   \n",
       "24304      FUNDACAO BUTANTAN    CORONAVAC 2021-03-13   14      210039   \n",
       "25744      FUNDACAO BUTANTAN    CORONAVAC 2021-03-18   14      210047   \n",
       "18083  FUNDACAO OSWALDO CRUZ  ASTRAZENECA 2021-02-02   14    4120Z005   \n",
       "34657      FUNDACAO BUTANTAN    CORONAVAC 2021-04-21   14      210143   \n",
       "15325                 PFIZER       PFIZER 2021-06-16   14      EY0574   \n",
       "21127  FUNDACAO OSWALDO CRUZ  ASTRAZENECA 2021-03-03   14    4120Z001   \n",
       "30918      FUNDACAO BUTANTAN    CORONAVAC 2021-04-07   14      210113   \n",
       "\n",
       "         VALIDADE  QUANTIDADE      VALOR  \n",
       "28167  02/04/2022        3080  179256.00  \n",
       "34656  02/04/2022        1810  105342.00  \n",
       "7585   26/09/2021        3945   78387.15  \n",
       "24304  02/03/2022         430   25026.00  \n",
       "25744  02/03/2022         820   47724.00  \n",
       "18083  16/04/2021        1410   40196.32  \n",
       "34657  02/04/2022         360   20952.00  \n",
       "15325  01/11/2021        2112  110504.06  \n",
       "21127  31/03/2021        1440   42768.00  \n",
       "30918  02/04/2022        6260  364332.00  "
      ]
     },
     "execution_count": 5,
     "metadata": {},
     "output_type": "execute_result"
    }
   ],
   "source": [
    "barbacena = df.loc[df['MUNICIPIO'] == 'BARBACENA']\n",
    "barbacena.sample(10)"
   ]
  },
  {
   "cell_type": "markdown",
   "metadata": {},
   "source": [
    "### Visualização"
   ]
  },
  {
   "cell_type": "code",
   "execution_count": 6,
   "metadata": {
    "scrolled": true
   },
   "outputs": [
    {
     "data": {
      "text/plain": [
       "array(['CORONAVAC', 'ASTRAZENECA', 'PFIZER'], dtype=object)"
      ]
     },
     "execution_count": 6,
     "metadata": {},
     "output_type": "execute_result"
    }
   ],
   "source": [
    "barbacena['VACINA'].unique()"
   ]
  },
  {
   "cell_type": "code",
   "execution_count": 7,
   "metadata": {},
   "outputs": [],
   "source": [
    "corona = barbacena.loc[barbacena['VACINA']=='CORONAVAC']\n",
    "astra = barbacena.loc[barbacena['VACINA']=='ASTRAZENECA']\n",
    "pfizer = barbacena.loc[barbacena['VACINA']=='PFIZER']\n",
    "total_coro = corona['QUANTIDADE'].sum()\n",
    "total_astra = astra['QUANTIDADE'].sum()\n",
    "total_pfi = pfizer['QUANTIDADE'].sum()"
   ]
  },
  {
   "cell_type": "code",
   "execution_count": 8,
   "metadata": {},
   "outputs": [
    {
     "data": {
      "text/plain": [
       "array([36220, 38300,  5232], dtype=int64)"
      ]
     },
     "execution_count": 8,
     "metadata": {},
     "output_type": "execute_result"
    }
   ],
   "source": [
    "totais = np.array([total_coro, total_astra, total_pfi])\n",
    "#totais = np.append(totais)\n",
    "totais"
   ]
  },
  {
   "cell_type": "code",
   "execution_count": 9,
   "metadata": {
    "scrolled": false
   },
   "outputs": [
    {
     "data": {
      "text/plain": [
       "['CORONAC', 'ASTRAZENECA', 'PFIZER']"
      ]
     },
     "execution_count": 9,
     "metadata": {},
     "output_type": "execute_result"
    }
   ],
   "source": [
    "y_label = ['CORONAC', 'ASTRAZENECA', 'PFIZER']\n",
    "y_label"
   ]
  },
  {
   "cell_type": "code",
   "execution_count": 10,
   "metadata": {
    "scrolled": true
   },
   "outputs": [
    {
     "data": {
      "text/plain": [
       "([<matplotlib.patches.Wedge at 0x1e9a6712760>,\n",
       "  <matplotlib.patches.Wedge at 0x1e9a673a1c0>,\n",
       "  <matplotlib.patches.Wedge at 0x1e9a673ab80>],\n",
       " [Text(-2.82049517396675, 0.40903175137178827, 'CORONAC'),\n",
       "  Text(2.5831652549988404, -0.9432694553343569, 'ASTRAZENECA'),\n",
       "  Text(0.6036972283728842, 2.887568121526295, 'PFIZER')],\n",
       " [Text(-1.8308477445047324, 0.26551183860975724, '45.416%'),\n",
       "  Text(1.6438324349992621, -0.6002623806673181, '48.024%'),\n",
       "  Text(0.3990541001108895, 1.9087314701614495, '6.560%')])"
      ]
     },
     "execution_count": 10,
     "metadata": {},
     "output_type": "execute_result"
    },
    {
     "data": {
      "image/png": "[encoded data removed]",
      "text/plain": [
       "<Figure size 432x288 with 1 Axes>"
      ]
     },
     "metadata": {},
     "output_type": "display_data"
    }
   ],
   "source": [
    "import matplotlib as mpl\n",
    "mpl.rcParams['font.size'] = 14.0\n",
    "plt.pie(totais, labels = y_label, explode= (0.1,0,0.2), shadow = True,\n",
    "startangle= 90, autopct='%1.3f%%', colors= [\"red\", \"blue\", \"green\"], radius=2.5, pctdistance = 0.7 )"
   ]
  },
  {
   "cell_type": "code",
   "execution_count": 11,
   "metadata": {},
   "outputs": [],
   "source": [
    "def plotar_grafico_vertical(x, y, legendax, legenday, titulo):\n",
    "    fig, ax = plt.subplots(figsize=(16, 8))\n",
    "    rects1 = ax.bar(x, y, color='g', width=0.3)\n",
    "    plt.xlabel(legendax, fontsize=15, labelpad= 10) \n",
    "    plt.ylabel(legenday, fontsize=15, labelpad= 10) \n",
    "    plt.grid(True) #grade \n",
    "    plt.tight_layout()\n",
    "    plt.title(titulo, fontsize= 18, pad= 12)\n",
    "    plt.xticks(fontsize=13)\n",
    "    plt.yticks(fontsize=13)\n",
    "    ax.bar_label(rects1, padding = 3, fontsize=13)"
   ]
  },
  {
   "cell_type": "code",
   "execution_count": 12,
   "metadata": {},
   "outputs": [],
   "source": [
    "def plotar_grafico_horizontal(x, y, legendax, legenday, titulo):\n",
    "    fig, ax = plt.subplots(figsize=(12, 6))\n",
    "    rects1 = ax.barh(x, y, color='deepskyblue')\n",
    "    plt.xlabel(legendax, fontsize=16, labelpad= 10) \n",
    "    plt.ylabel(legenday, fontsize=16, labelpad= 10) \n",
    "    plt.grid(True) #grade \n",
    "    plt.title(titulo, fontsize=18, pad=10)\n",
    "    plt.tight_layout() \n",
    "    plt.xticks(fontsize=12)\n",
    "    plt.yticks(fontsize=12)\n",
    "    ax.bar_label(rects1, padding = -50, fontsize=12)"
   ]
  },
  {
   "cell_type": "code",
   "execution_count": 13,
   "metadata": {},
   "outputs": [
    {
     "data": {
      "image/png": "[encoded data removed]",
      "text/plain": [
       "<Figure size 864x432 with 1 Axes>"
      ]
     },
     "metadata": {
      "needs_background": "light"
     },
     "output_type": "display_data"
    }
   ],
   "source": [
    "plotar_grafico_horizontal(y_label, totais,'Quantidade', 'Vacinas', 'Quantidades de cada vacina para a cidade de Barbacena')"
   ]
  },
  {
   "cell_type": "code",
   "execution_count": 14,
   "metadata": {
    "scrolled": false
   },
   "outputs": [
    {
     "name": "stderr",
     "output_type": "stream",
     "text": [
      "<ipython-input-14-63322439153d>:1: SettingWithCopyWarning: \n",
      "A value is trying to be set on a copy of a slice from a DataFrame.\n",
      "Try using .loc[row_indexer,col_indexer] = value instead\n",
      "\n",
      "See the caveats in the documentation: https://pandas.pydata.org/pandas-docs/stable/user_guide/indexing.html#returning-a-view-versus-a-copy\n",
      "  barbacena['mes'] = pd.DatetimeIndex(barbacena['DATA']).month\n"
     ]
    }
   ],
   "source": [
    "barbacena['mes'] = pd.DatetimeIndex(barbacena['DATA']).month"
   ]
  },
  {
   "cell_type": "code",
   "execution_count": 53,
   "metadata": {
    "scrolled": true
   },
   "outputs": [
    {
     "data": {
      "image/png": "[encoded data removed]",
      "text/plain": [
       "<Figure size 981.275x360 with 1 Axes>"
      ]
     },
     "metadata": {
      "needs_background": "light"
     },
     "output_type": "display_data"
    }
   ],
   "source": [
    "ax = sns.catplot(y = \"QUANTIDADE\", x=\"mes\", height=5, aspect=2.3, hue=\"VACINA\", kind=\"bar\", data=barbacena)\n",
    "plt.savefig(\"vacina_mes\")"
   ]
  },
  {
   "cell_type": "code",
   "execution_count": 16,
   "metadata": {},
   "outputs": [],
   "source": [
    "valor_coro = corona['VALOR'].sum()/1000\n",
    "valor_astra = astra['VALOR'].sum()/1000\n",
    "valor_pfi = pfizer['VALOR'].sum()/1000\n",
    "valores = np.array([valor_coro, valor_astra, valor_pfi])"
   ]
  },
  {
   "cell_type": "code",
   "execution_count": 64,
   "metadata": {
    "scrolled": true
   },
   "outputs": [
    {
     "data": {
      "image/png": "[encoded data removed]",
      "text/plain": [
       "<Figure size 1152x576 with 1 Axes>"
      ]
     },
     "metadata": {
      "needs_background": "light"
     },
     "output_type": "display_data"
    }
   ],
   "source": [
    "plotar_grafico_vertical(y_label, valores, 'Vacinas', 'Valor(mil)', 'Investimentos (mil) em cada vacina para a cidade de Barbacena')"
   ]
  },
  {
   "cell_type": "code",
   "execution_count": 55,
   "metadata": {},
   "outputs": [
    {
     "data": {
      "text/plain": [
       "3173.04568"
      ]
     },
     "execution_count": 55,
     "metadata": {},
     "output_type": "execute_result"
    }
   ],
   "source": [
    "np.array(valores).sum()"
   ]
  },
  {
   "cell_type": "code",
   "execution_count": 18,
   "metadata": {
    "scrolled": true
   },
   "outputs": [
    {
     "data": {
      "text/plain": [
       "Index(['MACRO', 'MICRO', 'URS', 'CODIGO', 'MUNICIPIO', 'MATERIAL',\n",
       "       'REQUISITANTE', 'NFM', 'FABRICANTE', 'VACINA', 'DATA', 'MOV', 'LOTE',\n",
       "       'VALIDADE', 'QUANTIDADE', 'VALOR', 'mes'],\n",
       "      dtype='object')"
      ]
     },
     "execution_count": 18,
     "metadata": {},
     "output_type": "execute_result"
    }
   ],
   "source": [
    "barbacena.columns"
   ]
  },
  {
   "cell_type": "code",
   "execution_count": 69,
   "metadata": {},
   "outputs": [
    {
     "name": "stderr",
     "output_type": "stream",
     "text": [
      "<ipython-input-69-1340ba1e67ae>:1: SettingWithCopyWarning: \n",
      "A value is trying to be set on a copy of a slice from a DataFrame.\n",
      "Try using .loc[row_indexer,col_indexer] = value instead\n",
      "\n",
      "See the caveats in the documentation: https://pandas.pydata.org/pandas-docs/stable/user_guide/indexing.html#returning-a-view-versus-a-copy\n",
      "  barbacena['days'] = barbacena['DATA'].dt.strftime('%d-%m')\n"
     ]
    }
   ],
   "source": [
    "barbacena['days'] = barbacena['DATA'].dt.strftime('%d-%m')"
   ]
  },
  {
   "cell_type": "code",
   "execution_count": 80,
   "metadata": {
    "scrolled": true
   },
   "outputs": [
    {
     "data": {
      "image/png": "[encoded data removed]",
      "text/plain": [
       "<Figure size 1622.08x864 with 1 Axes>"
      ]
     },
     "metadata": {
      "needs_background": "light"
     },
     "output_type": "display_data"
    }
   ],
   "source": [
    "ax = sns.catplot( y=\"QUANTIDADE\", x='days', height=12, aspect=1.7, hue=\"VACINA\", kind=\"bar\", data=barbacena)\n",
    "plt.savefig(\"vacina_dias\")"
   ]
  },
  {
   "cell_type": "markdown",
   "metadata": {},
   "source": [
    "#### Total de Vacinados, informação para o gráfico Canvas"
   ]
  },
  {
   "cell_type": "code",
   "execution_count": 21,
   "metadata": {
    "scrolled": true
   },
   "outputs": [
    {
     "data": {
      "text/plain": [
       "79752"
      ]
     },
     "execution_count": 21,
     "metadata": {},
     "output_type": "execute_result"
    }
   ],
   "source": [
    "np.sum(totais)"
   ]
  }
 ],
 "metadata": {
  "kernelspec": {
   "display_name": "Python 3",
   "language": "python",
   "name": "python3"
  },
  "language_info": {
   "codemirror_mode": {
    "name": "ipython",
    "version": 3
   },
   "file_extension": ".py",
   "mimetype": "text/x-python",
   "name": "python",
   "nbconvert_exporter": "python",
   "pygments_lexer": "ipython3",
   "version": "3.8.3"
  }
 },
 "nbformat": 4,
 "nbformat_minor": 4
}
